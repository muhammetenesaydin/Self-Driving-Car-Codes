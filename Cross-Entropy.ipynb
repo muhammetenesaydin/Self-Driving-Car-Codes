{
 "cells": [
  {
   "cell_type": "code",
   "execution_count": 1,
   "metadata": {},
   "outputs": [],
   "source": [
    "import numpy as np  # Import NumPy library (Numpy kütüphanesini içe aktar)\n",
    "import matplotlib.pyplot as plt  # Import Matplotlib for plotting (Grafik çizimi için Matplotlib'i içe aktar)\n",
    "\n",
    "# Function to draw a plot (Bir grafik çizme fonksiyonu)\n",
    "def draw(x1, x2):\n",
    "    ln = plt.plot(x1, x2)  # Plot the data (Veriyi çiz)\n",
    "\n",
    "# Sigmoid function definition (Sigmoid fonksiyonu tanımı)\n",
    "def sigmoid(score):\n",
    "    return 1 / (1 + np.exp(-score))  # Sigmoid function formula (Sigmoid fonksiyonunun formülü)\n",
    "\n",
    "# Function to calculate error (Hata hesaplama fonksiyonu)\n",
    "def calculate_error(line_parameters, points, y):\n",
    "    n = points.shape[0]  # Number of points (Nokta sayısını al)\n",
    "    p = sigmoid(points * line_parameters)  # Apply sigmoid to the linear combination (Lineer kombinasyona sigmoid uygula)\n",
    "    \n",
    "    # Cross entropy error calculation (Çapraz entropi hata hesaplama)\n",
    "    cross_entropy = -(1 / n) * (np.log(p).T * y + np.log(1 - p).T * (1 - y))  \n",
    "    return cross_entropy  # Return the calculated error (Hesaplanan hatayı döndür)"
   ]
  },
  {
   "cell_type": "code",
   "execution_count": 3,
   "metadata": {},
   "outputs": [],
   "source": [
    "# Rastgele sayı üretimi için sabit bir tohum belirleniyor (tekrar üretilebilirlik için)\n",
    "# Setting a fixed seed for random number generation (for reproducibility)\n",
    "np.random.seed(0)\n",
    "\n",
    "# Üretilecek veri noktalarının sayısı\n",
    "# Number of points to generate\n",
    "n_pts = 10\n",
    "\n",
    "# Önyargı terimi için bir vektör oluşturuluyor (1'lerden oluşuyor)\n",
    "# Creating a bias vector (all ones)\n",
    "bias = np.ones(n_pts)\n",
    "\n",
    "# Üst bölge için veri oluşturuluyor\n",
    "# Generating data for the top region\n",
    "# X değerleri için ortalama 10, standart sapma 2\n",
    "# X values with mean 10 and standard deviation 2\n",
    "# Y değerleri için ortalama 12, standart sapma 2\n",
    "# Y values with mean 12 and standard deviation 2\n",
    "top_region = np.array([np.random.normal(10, 2, n_pts), np.random.normal(12, 2, n_pts), bias]).T\n",
    "\n",
    "# Alt bölge için veri oluşturuluyor\n",
    "# Generating data for the bottom region\n",
    "# X değerleri için ortalama 5, standart sapma 2\n",
    "# X values with mean 5 and standard deviation 2\n",
    "# Y değerleri için ortalama 6, standart sapma 2\n",
    "# Y values with mean 6 and standard deviation 2\n",
    "bottom_region = np.array([np.random.normal(5, 2, n_pts), np.random.normal(6, 2, n_pts), bias]).T\n",
    "\n",
    "# Tüm veri noktaları birleştiriliyor\n",
    "# Combining all data points\n",
    "all_points = np.vstack((top_region, bottom_region))\n",
    "\n",
    "# Başlangıç ağırlıkları ve önyargı değerleri tanımlanıyor\n",
    "# Defining initial weights and bias\n",
    "w1 = -0.1  # İlk ağırlık (weight 1)\n",
    "w2 = -0.15  # İkinci ağırlık (weight 2)\n",
    "b = 0  # Önyargı (bias)\n",
    "\n",
    "# Doğru parametreleri bir matris olarak tanımlanıyor\n",
    "# Defining line parameters as a matrix\n",
    "line_param = np.matrix([w1, w2, b]).T\n",
    "\n",
    "# Alt ve üst bölge noktalarına göre bir çizgi oluşturuluyor\n",
    "# Creating a line based on points in the bottom and top regions\n",
    "x1 = np.array([bottom_region[:, 0].min(), top_region[:, 0].max()])  # X koordinatları (X coordinates)\n",
    "x2 = -b / w2 + x1 * (-w1 / w2)  # Y koordinatları (Y coordinates)\n",
    "\n",
    "# Etiketler (labels) oluşturuluyor: Alt bölge için 0, üst bölge için 1\n",
    "# Creating labels: 0 for bottom region, 1 for top region\n",
    "y = np.array([np.zeros(n_pts), np.ones(n_pts)]).reshape(n_pts * 2, 1)\n"
   ]
  },
  {
   "cell_type": "code",
   "execution_count": 4,
   "metadata": {},
   "outputs": [
    {
     "data": {
      "image/png": "[encoded data removed]",
      "text/plain": [
       "<Figure size 400x400 with 1 Axes>"
      ]
     },
     "metadata": {},
     "output_type": "display_data"
    }
   ],
   "source": [
    "# Grafik oluşturma (Creating the plot)\n",
    "_, ax = plt.subplots(figsize=(4, 4))  # Grafik boyutu ayarlanıyor (Setting the figure size)\n",
    "\n",
    "# Üst bölgenin noktalarını kırmızı renkli olarak çiz\n",
    "# Plotting points in the top region with red color\n",
    "ax.scatter(top_region[:, 0], top_region[:, 1], color='r')\n",
    "\n",
    "# Alt bölgenin noktalarını mavi renkli olarak çiz\n",
    "# Plotting points in the bottom region with blue color\n",
    "ax.scatter(bottom_region[:, 0], bottom_region[:, 1], color='b')\n",
    "\n",
    "# Doğruyu çizmek için draw fonksiyonu çağrılıyor\n",
    "# Calling the draw function to plot the line\n",
    "draw(x1, x2)\n",
    "\n",
    "# Grafiği göster\n",
    "# Displaying the plot\n",
    "plt.show()\n"
   ]
  },
  {
   "cell_type": "code",
   "execution_count": 5,
   "metadata": {},
   "outputs": [
    {
     "name": "stdout",
     "output_type": "stream",
     "text": [
      "[[0.84032402]]\n"
     ]
    }
   ],
   "source": [
    "# Hata fonksiyonunu hesapla ve sonucu yazdır\n",
    "# Calculate the error function and print the result\n",
    "print(calculate_error(line_param, all_points, y))\n"
   ]
  },
  {
   "cell_type": "markdown",
   "metadata": {},
   "source": []
  }
 ],
 "metadata": {
  "kernelspec": {
   "display_name": "Python 3",
   "language": "python",
   "name": "python3"
  },
  "language_info": {
   "codemirror_mode": {
    "name": "ipython",
    "version": 3
   },
   "file_extension": ".py",
   "mimetype": "text/x-python",
   "name": "python",
   "nbconvert_exporter": "python",
   "pygments_lexer": "ipython3",
   "version": "3.12.2"
  }
 },
 "nbformat": 4,
 "nbformat_minor": 2
}
